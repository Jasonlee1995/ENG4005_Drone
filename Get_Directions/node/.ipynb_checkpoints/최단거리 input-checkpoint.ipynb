{
 "cells": [
  {
   "cell_type": "code",
   "execution_count": 3,
   "metadata": {
    "ExecuteTime": {
     "end_time": "2020-12-09T06:19:12.646261Z",
     "start_time": "2020-12-09T06:19:12.639246Z"
    }
   },
   "outputs": [],
   "source": [
    "from dijkstra import Graph\n",
    "from dijkstra import DijkstraSPF\n",
    "import pandas as pd\n",
    "import math\n",
    "import random\n",
    "import numpy as np"
   ]
  },
  {
   "cell_type": "code",
   "execution_count": 4,
   "metadata": {
    "ExecuteTime": {
     "end_time": "2020-12-09T06:19:13.390259Z",
     "start_time": "2020-12-09T06:19:13.354334Z"
    }
   },
   "outputs": [],
   "source": [
    "dis = pd.read_csv(\"distance.csv\")  #노드 쌍과 거리를 나타내는 새로운 데이터셋\n",
    "node_info = pd.read_csv(\"node_info_csv.csv\")\n",
    "node_list =['A','B','C','D','E','F','G','H','I','J','K','L','M','N','P','Q','R','S','T','U','V','W','X','Y','Z','AA','AB','AC','AD','AE','AF','AG','AH','AI','AJ','AK','AL','AM','AN','AO','AP','AQ','AR','AS','AT','AU','AV','AW','AX','AY','AZ','BA','BB','BC','BD','BE']"
   ]
  },
  {
   "cell_type": "code",
   "execution_count": 5,
   "metadata": {
    "ExecuteTime": {
     "end_time": "2020-12-09T06:19:14.236971Z",
     "start_time": "2020-12-09T06:19:14.201102Z"
    }
   },
   "outputs": [
    {
     "data": {
      "text/html": [
       "<div>\n",
       "<style scoped>\n",
       "    .dataframe tbody tr th:only-of-type {\n",
       "        vertical-align: middle;\n",
       "    }\n",
       "\n",
       "    .dataframe tbody tr th {\n",
       "        vertical-align: top;\n",
       "    }\n",
       "\n",
       "    .dataframe thead th {\n",
       "        text-align: right;\n",
       "    }\n",
       "</style>\n",
       "<table border=\"1\" class=\"dataframe\">\n",
       "  <thead>\n",
       "    <tr style=\"text-align: right;\">\n",
       "      <th></th>\n",
       "      <th>Name</th>\n",
       "      <th>X</th>\n",
       "      <th>Y</th>\n",
       "      <th>count_node</th>\n",
       "      <th>a_node_1</th>\n",
       "      <th>a_node_2</th>\n",
       "      <th>a_node_3</th>\n",
       "      <th>a_node_4</th>\n",
       "    </tr>\n",
       "  </thead>\n",
       "  <tbody>\n",
       "    <tr>\n",
       "      <th>0</th>\n",
       "      <td>1</td>\n",
       "      <td>0.000</td>\n",
       "      <td>0.000</td>\n",
       "      <td>1</td>\n",
       "      <td>2</td>\n",
       "      <td>NaN</td>\n",
       "      <td>NaN</td>\n",
       "      <td>NaN</td>\n",
       "    </tr>\n",
       "    <tr>\n",
       "      <th>1</th>\n",
       "      <td>2</td>\n",
       "      <td>0.698</td>\n",
       "      <td>0.000</td>\n",
       "      <td>3</td>\n",
       "      <td>1</td>\n",
       "      <td>3.0</td>\n",
       "      <td>5.0</td>\n",
       "      <td>NaN</td>\n",
       "    </tr>\n",
       "    <tr>\n",
       "      <th>2</th>\n",
       "      <td>3</td>\n",
       "      <td>2.044</td>\n",
       "      <td>0.000</td>\n",
       "      <td>3</td>\n",
       "      <td>2</td>\n",
       "      <td>7.0</td>\n",
       "      <td>4.0</td>\n",
       "      <td>NaN</td>\n",
       "    </tr>\n",
       "    <tr>\n",
       "      <th>3</th>\n",
       "      <td>4</td>\n",
       "      <td>2.800</td>\n",
       "      <td>0.000</td>\n",
       "      <td>1</td>\n",
       "      <td>3</td>\n",
       "      <td>NaN</td>\n",
       "      <td>NaN</td>\n",
       "      <td>NaN</td>\n",
       "    </tr>\n",
       "    <tr>\n",
       "      <th>4</th>\n",
       "      <td>5</td>\n",
       "      <td>0.095</td>\n",
       "      <td>0.911</td>\n",
       "      <td>3</td>\n",
       "      <td>2</td>\n",
       "      <td>6.0</td>\n",
       "      <td>8.0</td>\n",
       "      <td>NaN</td>\n",
       "    </tr>\n",
       "  </tbody>\n",
       "</table>\n",
       "</div>"
      ],
      "text/plain": [
       "   Name      X      Y  count_node  a_node_1  a_node_2  a_node_3  a_node_4\n",
       "0     1  0.000  0.000           1         2       NaN       NaN       NaN\n",
       "1     2  0.698  0.000           3         1       3.0       5.0       NaN\n",
       "2     3  2.044  0.000           3         2       7.0       4.0       NaN\n",
       "3     4  2.800  0.000           1         3       NaN       NaN       NaN\n",
       "4     5  0.095  0.911           3         2       6.0       8.0       NaN"
      ]
     },
     "execution_count": 5,
     "metadata": {},
     "output_type": "execute_result"
    }
   ],
   "source": [
    "node_info.head()"
   ]
  },
  {
   "cell_type": "code",
   "execution_count": 6,
   "metadata": {
    "ExecuteTime": {
     "end_time": "2020-12-09T06:19:14.790504Z",
     "start_time": "2020-12-09T06:19:14.778555Z"
    }
   },
   "outputs": [],
   "source": [
    "A,B,C,D,E,F,G,H,I,J,K,L,M,N,P,Q,R,S,T,U,V,W,X,Y,Z,AA,AB,AC,AD,AE,AF,AG,AH,AI,AJ,AK,AL,AM,AN,AO,AP,AQ,AR,AS,AT,AU,AV,AW,AX,AY,AZ,BA,BB,BC,BD,BE= nodes=node_list\n",
    "graph = Graph()\n",
    "for i in range(len(dis)):\n",
    "    a = dis.iloc[i,0]\n",
    "    b = dis.iloc[i,1]\n",
    "    c = dis.iloc[i,2]\n",
    "    graph.add_edge(a,b,c)"
   ]
  },
  {
   "cell_type": "code",
   "execution_count": 30,
   "metadata": {
    "ExecuteTime": {
     "end_time": "2020-12-09T06:31:02.600646Z",
     "start_time": "2020-12-09T06:31:02.580700Z"
    },
    "scrolled": true
   },
   "outputs": [],
   "source": [
    "def path_list(start,finish):\n",
    "    path = DijkstraSPF(graph, start).get_path(finish)\n",
    "    path_len=len(path)\n",
    "    \n",
    "\n",
    "    def fit(a,b):\n",
    "        angle_cos = np.dot(a,b)/np.sqrt(np.dot(a,a)*np.dot(b,b))\n",
    "\n",
    "        if angle_cos> 1:\n",
    "            angle_cos = 1\n",
    "\n",
    "        angle_init = np.rad2deg(np.arccos(angle_cos))\n",
    "        cross = np.cross(a,b)[2]\n",
    "        print(a[0])\n",
    "        if cross == 0:\n",
    "            if a[0]*b[0]<0:\n",
    "                sign = 1\n",
    "            else:\n",
    "                sign = 0\n",
    "        else:\n",
    "            sign = cross/np.sqrt(np.dot(cross,cross))\n",
    "        angle = angle_init*sign\n",
    "        distance = np.sqrt(np.dot(b,b))\n",
    "\n",
    "        return angle, distance\n",
    "\n",
    "    # 내외적을 이용하여 방향과 거리 계산\n",
    "\n",
    "\n",
    "    path_list = []\n",
    "    for i in range(path_len):\n",
    "        if i != path_len-1:\n",
    "            num = node_list.index(path[i])\n",
    "            num_1 = node_list.index(path[i+1])\n",
    "            x = node_info.iloc[num_1,1]-node_info.iloc[num,1]\n",
    "            y = node_info.iloc[num_1,2]-node_info.iloc[num,2]\n",
    "            if i == 0:\n",
    "                a = [1,0,0]  # 기본적으로 x축 양의 방향으로 초기화를 시켜놓도록 한다.\n",
    "                b = [x,y,0]\n",
    "                result = fit(a,b)\n",
    "                path_list.append(round(result[0],2))\n",
    "                path_list.append(round(result[1]*100,2))\n",
    "            else:\n",
    "                a = b \n",
    "                b = [x,y,0] \n",
    "                result  = fit(a,b)\n",
    "                path_list.append(round(result[0],2))\n",
    "                path_list.append(round(result[1]*100,2))\n",
    "\n",
    "        else:\n",
    "            a = b\n",
    "            b = [1,0,0] # 마지막으로 목적지에 도착하였으므로 [1,0,0]으로 초기화\n",
    "            result = fit(a,b)\n",
    "            path_list.append(round(result[0],2))\n",
    "            path_list.append(0)\n",
    "    return path_list\n"
   ]
  },
  {
   "cell_type": "code",
   "execution_count": 31,
   "metadata": {
    "ExecuteTime": {
     "end_time": "2020-12-09T06:31:03.803462Z",
     "start_time": "2020-12-09T06:31:03.796476Z"
    },
    "scrolled": true
   },
   "outputs": [
    {
     "name": "stdout",
     "output_type": "stream",
     "text": [
      "1\n",
      "-0.7559999999999998\n"
     ]
    },
    {
     "data": {
      "text/plain": [
       "[180.0, 75.6, 180.0, 0]"
      ]
     },
     "execution_count": 31,
     "metadata": {},
     "output_type": "execute_result"
    }
   ],
   "source": [
    "path_list('D','C')"
   ]
  },
  {
   "cell_type": "markdown",
   "metadata": {},
   "source": [
    "- **짝수 인덱스**의 경우에 **각도를 얼마나 틀어야하는가**를 의미하고 **홀수의 경우의 거리**를 의미한다\n",
    "\n",
    "- 각도의 경우 시계방향이 음수, 반시계 방향이 양수이며 단위는 deg이다.\n",
    "\n",
    "- 거리의 경우 단위는 cm이다.\n",
    "\n",
    "- 즉, 이대로 움직이도록 하는 py파일에다가 인풋을 하게 되면 최단거리로 움직일 수 있다.\n",
    "- 순찰의 경우 제 위치에서 임의의 다른 위치로 옮겨가도록 하면 되므로 혹은 지정할 수 있으므로 이 함수를 통해서 해결할 수 있다.\n",
    "    - 혹은 순찰 경로를 미리 지정하여 노드를 정해놓아도 됨.\n",
    "- 오차는... 모르겠다. 미션패드를 통해서 어느정도 해결할 수 있겠으나 직접 돌려보아야 알 것 같다는 생각이 든다."
   ]
  }
 ],
 "metadata": {
  "kernelspec": {
   "display_name": "Python 3",
   "language": "python",
   "name": "python3"
  },
  "language_info": {
   "codemirror_mode": {
    "name": "ipython",
    "version": 3
   },
   "file_extension": ".py",
   "mimetype": "text/x-python",
   "name": "python",
   "nbconvert_exporter": "python",
   "pygments_lexer": "ipython3",
   "version": "3.8.3"
  },
  "toc": {
   "base_numbering": 1,
   "nav_menu": {},
   "number_sections": true,
   "sideBar": true,
   "skip_h1_title": false,
   "title_cell": "Table of Contents",
   "title_sidebar": "Contents",
   "toc_cell": false,
   "toc_position": {},
   "toc_section_display": true,
   "toc_window_display": false
  }
 },
 "nbformat": 4,
 "nbformat_minor": 4
}
